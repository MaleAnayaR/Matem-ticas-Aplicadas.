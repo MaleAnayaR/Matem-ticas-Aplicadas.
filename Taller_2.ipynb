{
  "nbformat": 4,
  "nbformat_minor": 0,
  "metadata": {
    "colab": {
      "provenance": [],
      "include_colab_link": true
    },
    "kernelspec": {
      "name": "python3",
      "display_name": "Python 3"
    },
    "language_info": {
      "name": "python"
    }
  },
  "cells": [
    {
      "cell_type": "markdown",
      "metadata": {
        "id": "view-in-github",
        "colab_type": "text"
      },
      "source": [
        "<a href=\"https://colab.research.google.com/github/MaleAnayaR/Matem-ticas-Aplicadas./blob/main/Taller_2.ipynb\" target=\"_parent\"><img src=\"https://colab.research.google.com/assets/colab-badge.svg\" alt=\"Open In Colab\"/></a>"
      ]
    },
    {
      "cell_type": "markdown",
      "source": [
        "$$Integrantes: Maria Alejandra Anaya - Mariana Calderon - Yeanfer Rivera - Juan Felipe Castro.$$"
      ],
      "metadata": {
        "id": "xCq534v8caz7"
      }
    },
    {
      "cell_type": "code",
      "execution_count": null,
      "metadata": {
        "colab": {
          "base_uri": "https://localhost:8080/"
        },
        "id": "duners_tk1eK",
        "outputId": "a73b964c-2593-49b9-e607-e348d1d31a83"
      },
      "outputs": [
        {
          "output_type": "stream",
          "name": "stdout",
          "text": [
            "Ingrese la cantidad de números de la lista: 5\n",
            "Ingrese los elementos de la lista: 4\n",
            "Ingrese los elementos de la lista: 6\n",
            "Ingrese los elementos de la lista: 9\n",
            "Ingrese los elementos de la lista: 3\n",
            "Ingrese los elementos de la lista: 7\n",
            "Números primos: [3, 7]\n"
          ]
        }
      ],
      "source": [
        "#1. Filtrar números primos\n",
        "#Escribe una función que reciba una lista de números y devuelva una nueva lista solo\n",
        "#con los números primos.\n",
        "\n",
        "\n",
        "def filtrarNumeroPrimos():\n",
        "    numeros = []\n",
        "    primos = []\n",
        "    cantidad = int(input(\"Ingrese la cantidad de números de la lista: \"))\n",
        "\n",
        "    for i in range(cantidad):\n",
        "        elementos = int(input(\"Ingrese los elementos de la lista: \"))\n",
        "        numeros.append(elementos) #el append mete elementos a la lista vacia\n",
        "\n",
        "    for n in numeros:\n",
        "        if es_primo(n):\n",
        "            primos.append(n)\n",
        "\n",
        "    print(f\"Números primos: {primos}\")\n",
        "    return primos\n",
        "                                                    #n/n=1 o n%n=0\n",
        "def es_primo(n):\n",
        "    if n < 2: #0 y 1 no son primos         #numero n de la lista numeros, si un numero tiene un divisor distinto de 1 y n mismo,\n",
        "                                          #significa que si es primo y se puede escribir como n=a*b donde tienen que ser menores que\n",
        "                                          # n, excepto cuando sea 1 * n. ejemplo 36\n",
        "                                          #factores (1,36),(2,18),(3,12),(4,9),(6,6). en terminos generales el factor a en este caso\n",
        "                                          #siempre es menor o igual que la raiz (no tengo que invertir los factores o revisar despues\n",
        "                                          #de la raiz), es decir no tengo que revisar despues del (6,6) el (9,4),(12,3) xq son los\n",
        "                                          #mismos factores pero invertidos. (solo revisamos 1,2,3,4,6)\n",
        "                                          #si n no tiene ningun divisor en el rango 2 a√n entonces tampoco en √n a n-1 (porque serian\n",
        "                                          #repeticiones)(reduce iteraiones)\n",
        "        return False\n",
        "    for i in range(2, int(n ** 0.5) + 1): #raiz (6,6) #ese int no permite la parte decimal x si n no tiene raiz exacta y se le sum\n",
        "                                        #xq el siguiente podria ser un divisor\n",
        "                                        #eje con un primo    sqrt(17)=4 reviso hasta el 5, pero este si es primo , x tanto factores:\n",
        "                                        #(1,17)\n",
        "        if n % i == 0:\n",
        "            return False\n",
        "    return True\n",
        "\n",
        "num_primos = filtrarNumeroPrimos()"
      ]
    },
    {
      "cell_type": "code",
      "source": [
        "#2. Escribe una función que reciba dos listas y devuelva una nueva lista con los elementos\n",
        "#comunes entre ambas.\n",
        "import math\n",
        "def elementosComunes():\n",
        "    lista1=[]\n",
        "    c=int(input(\"cantidad lista 1: \"))\n",
        "    lista2=[]\n",
        "    comunes=[]\n",
        "\n",
        "    for i in range(c):\n",
        "        elementos_l1=int(input(\"ingrese los elementos de la lista 1: \"))\n",
        "        lista1.append(elementos_l1)\n",
        "    c2=int(input(\"cantidad lista 2 : \"))\n",
        "    for i in range(c2):\n",
        "        elementos_l2=int(input(\"ingrese los elementos de la lista 2: \"))\n",
        "        lista2.append(elementos_l2)\n",
        "\n",
        "    comunes=list(set(lista1) & set(lista2)) # convierte las listas en conjuntos y bueno, posteriormente el operador logico\n",
        "                                            # '&' de interseccion encuentra los elementos que estas en ambos o los coumnes\n",
        "                                            # y no repite como es el caso\n",
        "    return comunes\n",
        "elecom=elementosComunes()\n",
        "print(f\"elementos comunes {elecom}\")"
      ],
      "metadata": {
        "colab": {
          "base_uri": "https://localhost:8080/"
        },
        "id": "dLimv9k_zs_5",
        "outputId": "fb29e094-6ecd-41f5-fe82-8d2ca6d3f929"
      },
      "execution_count": null,
      "outputs": [
        {
          "output_type": "stream",
          "name": "stdout",
          "text": [
            "cantidad lista 1: 6\n",
            "ingrese los elementos de la lista 1: 2\n",
            "ingrese los elementos de la lista 1: 5\n",
            "ingrese los elementos de la lista 1: 7\n",
            "ingrese los elementos de la lista 1: 8\n",
            "ingrese los elementos de la lista 1: 12\n",
            "ingrese los elementos de la lista 1: 14\n",
            "cantidad lista 2 : 4\n",
            "ingrese los elementos de la lista 2: 2\n",
            "ingrese los elementos de la lista 2: 7\n",
            "ingrese los elementos de la lista 2: 10\n",
            "ingrese los elementos de la lista 2: 2\n",
            "elementos comunes [2, 7]\n"
          ]
        }
      ]
    },
    {
      "cell_type": "code",
      "source": [
        "import math as mt\n",
        "import numpy as np\n",
        "def convertir_a_Matriz():\n",
        "  cantidad_ele=int(input(\"ingrese la cantidad de elementos de la matriz: \"))\n",
        "  raiz=int(mt.sqrt(cantidad_ele))\n",
        "  if raiz * raiz !=cantidad_ele:  #verifica la raiz y si no es cuadradp perfecto imprime ese mensaje y retorna un none\n",
        "    print(\"no se puede formar una matriz cuadrada :c \")\n",
        "\n",
        "    return None\n",
        "  lista=[] # si si es posible solicita y almacena en la lista\n",
        "  for j in range(cantidad_ele):\n",
        "    n=int(input(\"ingrese los elementos de la lista: \"))\n",
        "    lista.append(n)                                       #lista[], i*raiz es el indice de inicio de cada fila, (i+1) es el indice donde termina la fila sin incluirlo\n",
        "                                                          #ejemplo cant=4, raiz=2 y la lista es [1,2,3,4]\n",
        "                                                          #cuando i=0: lista[0:2]->[1,2] (primera fila) #[0*2:(0+1)*2]=[0,2] 0 es la primera posicion de la fila y 2 es la ultima (no se incluye)\n",
        "                                                          #cuando i=1: lista[2:4]->[3,4] (segunda fila)\n",
        "    matriz=[lista[i*raiz:(i+1)*raiz] for i in range(raiz)]#genera lista de listas (matriz). el recorrido posterior con el for controla cuantas filas tendra la matriz, repite el proceso con las filas\n",
        "                                                          #que se forman, mejor dicho forma cada fila\n",
        "  return matriz\n",
        "resultado=convertir_a_Matriz()\n",
        "if resultado:\n",
        "  print(\"MATRIZ: \")\n",
        "  for fila in resultado:\n",
        "    print(fila)\n"
      ],
      "metadata": {
        "colab": {
          "base_uri": "https://localhost:8080/"
        },
        "id": "Dhw94nkC7NAf",
        "outputId": "d539d428-447f-4a53-f873-291d29a10a29"
      },
      "execution_count": null,
      "outputs": [
        {
          "output_type": "stream",
          "name": "stdout",
          "text": [
            "ingrese la cantidad de elementos de la matriz: 4\n",
            "ingrese los elementos de la lista: 1\n",
            "ingrese los elementos de la lista: 2\n",
            "ingrese los elementos de la lista: 3\n",
            "ingrese los elementos de la lista: 4\n",
            "MATRIZ: \n",
            "[1, 2]\n",
            "[3, 4]\n"
          ]
        }
      ]
    },
    {
      "cell_type": "code",
      "source": [
        "#4. Escribe una función que reciba una lista de números y devuelva la media, mediana y\n",
        "#moda. Si hay más de una moda, devuelve todas.\n",
        "\n",
        "\n",
        "\n",
        "def recibirLista():\n",
        "    numL=[]\n",
        "    cantidad=int(input(\"cantidad elementos lista: \"))\n",
        "    for i in range(cantidad):\n",
        "        a=int(input(\"ingrese los elementos: \"))\n",
        "        numL.append(a)\n",
        "        i+=1 #== i=i+1 (i=0+1) (1<cantidad?)-> ejecuta o no el bloque de codigo del for\n",
        "    return numL\n",
        "def operacionesEstadisticas(lista):\n",
        "    suma=0\n",
        "\n",
        "    for a, b in enumerate(lista): #a es el indice y b es el elemento en si,\n",
        "        suma+=b                  # por tanto a suma que es 0 inicialmente se le suma b la cantidad de veces que indique ek for\n",
        "                                # suma=suma+b  (suma=0+3) luego (suma=3+4) y asi sucesivamente se almacena en la variable suma\n",
        "\n",
        "    media=suma/len(lista)\n",
        "    print(f\"media {media} \")\n",
        "\n",
        "#para calcular la mediana se debe ordenar de menor a mayor, para ello usamos metodo burbujja\n",
        "\n",
        "    lista_ordenada= lista[:] #hace una copia\n",
        "    for i in range(len(lista_ordenada)):\n",
        "         for j in range(i + 1, len(lista_ordenada)):      #lista[i]  lista_ord[j]      a        intercambiamos si el valor de lista en\n",
        "             if lista_ordenada[i] > lista_ordenada[j]: #0:  #  5   #1:  3              5        una posicion menor (lista[i]) es mayor\n",
        "                a=lista_ordenada[i]                    #1:  #  3   #2:  4              5         porque se busca ordenar de menor a mayor\n",
        "                lista_ordenada[i]=lista_ordenada[j]    #2:  #  4\n",
        "                lista_ordenada[j]=a\n",
        "\n",
        "                                                       #0   #  3   #1:   5\n",
        "                                                       #1   #  5   #2:   4\n",
        "                                                       #2   #  4\n",
        "\n",
        "                                                       #1   #  4   #3    5\n",
        "                                                       #2   #  5\n",
        "\n",
        "    n = len(lista_ordenada)            #si la lista es de tamaño \"n\" impar es el valor del medio, si es par, seria el promedio de los dos valores del medio\n",
        "    if n % 2 == 0:\n",
        "        mediana = (lista_ordenada[n // 2 - 1] + lista_ordenada[n // 2]) / 2          #n // 2 → Encuentra el índice central derecho. y n//2-1 el izquierdo se suman y se dividen por 2 que es la casntidad\n",
        "    else:\n",
        "        mediana = lista_ordenada[n // 2]\n",
        "\n",
        "\n",
        "    frecuencia = {}     #diccionario qque almacenará la clave (numero en la lista) y el valor(cuantas veces aparece)\n",
        "    for num in lista:\n",
        "      if num in frecuencia:\n",
        "        frecuencia[num] += 1\n",
        "      else:\n",
        "        frecuencia[num] = 1\n",
        "\n",
        "    max_frecuencia = 0\n",
        "    for valor in frecuencia.values():\n",
        "      if valor > max_frecuencia:\n",
        "        max_frecuencia = valor   #se le asigna directamente a max frecuencia si se cumple esa condicion, guarda el valor mas alto\n",
        "\n",
        "    modas = []\n",
        "    for num, frec in frecuencia.items():\n",
        "      if frec == max_frecuencia:    #recorre el diccionario completo y los numeros que allas sido almacenados en max frecuencia se agregan a la lista modas, si hubiesen varios numeros con esta, se agregarian\n",
        "        modas.append(num)\n",
        "\n",
        "    return media, mediana, modas\n",
        "\n",
        "numeros = recibirLista()\n",
        "media, mediana, modas = operacionesEstadisticas(numeros)\n",
        "\n",
        "print(f\"Media: {media}\")\n",
        "print(f\"Mediana: {mediana}\")\n",
        "print(f\"Moda(s): {modas}\")\n",
        "\n"
      ],
      "metadata": {
        "colab": {
          "base_uri": "https://localhost:8080/"
        },
        "id": "ywGX8YUx5nQM",
        "outputId": "410e3b90-bfd4-4331-b72c-4482cf56596a"
      },
      "execution_count": null,
      "outputs": [
        {
          "output_type": "stream",
          "name": "stdout",
          "text": [
            "cantidad elementos lista: 6\n",
            "ingrese los elementos: 4\n",
            "ingrese los elementos: 6\n",
            "ingrese los elementos: 8\n",
            "ingrese los elementos: 5\n",
            "ingrese los elementos: 4\n",
            "ingrese los elementos: 4\n",
            "media 5.166666666666667 \n",
            "Media: 5.166666666666667\n",
            "Mediana: 4.5\n",
            "Moda(s): [4]\n"
          ]
        }
      ]
    },
    {
      "cell_type": "code",
      "source": [
        "\n",
        "def listas_():\n",
        "    precios=[]\n",
        "    cantidad=[]\n",
        "    total=0\n",
        "    n=int(input(\"cuantos productos en total ingresará?: \"))\n",
        "    for i in range(n):\n",
        "        producto=str(input(\"que producto eligio?: \"))\n",
        "        productoP=float(input(f\"diligencie el precio del producto {producto}: \"))\n",
        "        productoC=int(input(f\"diligencie la cantidad de {producto} que quiere llevar: \"))\n",
        "        precios.append(productoP)\n",
        "        cantidad.append(productoC)\n",
        "        total+=productoP*productoC\n",
        "        if total>100:\n",
        "            descuento=total*0.10\n",
        "            total-=descuento\n",
        "            print(f\"Se ha aplicado un descuento de ${descuento:.2f}\") #.\"x\"f es como para darle un formato especifico al resultado\n",
        "                                                                     # ya que puede ser un decimal grande, entonces pongo x decimales\n",
        "                                                                     #en este caso 2\n",
        "    return total\n",
        "resultado=listas_()\n",
        "print(f\"el total que debe de pagar es ${ resultado }\")"
      ],
      "metadata": {
        "colab": {
          "base_uri": "https://localhost:8080/"
        },
        "id": "lUh9sYrL1zP-",
        "outputId": "6a8a83f8-992c-4b10-9e7b-786cb31023cc"
      },
      "execution_count": null,
      "outputs": [
        {
          "output_type": "stream",
          "name": "stdout",
          "text": [
            "cuantos productos en total ingresará?: 3\n",
            "que producto eligio?: shampoo\n",
            "diligencie el precio del producto shampoo: 40\n",
            "diligencie la cantidad de shampoo que quiere llevar: 1\n",
            "que producto eligio?: jabon\n",
            "diligencie el precio del producto jabon: 20\n",
            "diligencie la cantidad de jabon que quiere llevar: 2\n",
            "que producto eligio?: esponja\n",
            "diligencie el precio del producto esponja: 10\n",
            "diligencie la cantidad de esponja que quiere llevar: 3\n",
            "Se ha aplicado un descuento de $11.00\n",
            "el total que debe de pagar es 99.0\n"
          ]
        }
      ]
    },
    {
      "cell_type": "code",
      "source": [
        "\n",
        "#6. Control de inventario: Crea una función que reciba una lista de productos en inventario\n",
        "#y una lista de productos vendidos. La función debe devolver una lista con los productos\n",
        "#que quedan en inventario, eliminando los vendidos.\n",
        "\n",
        "def fun_productos(inventario, ventas):\n",
        "\n",
        "    inventario_final = inventario[:]   # copia del inventario para no modificar la orignial despues\n",
        "\n",
        "    for producto in ventas:     #se recorre cada producto vendido y se evalua la condicion del if que es si ese producto vendido\n",
        "                                             # esta en el inventario y si se cumple ps el vendido se elimina del inventario. y retornamos\n",
        "        if producto in inventario_final:\n",
        "            inventario_final.remove(producto)\n",
        "\n",
        "    return inventario_final\n",
        "\n",
        "\n",
        "print(\"Ingrese los productos del inventario (separados por comas):\")\n",
        "productos_inventario = input().split(\",\")                                         #los parametros iniciales la lista de inventarios y ventas\n",
        "\n",
        "print(\"Ingrese los productos vendidos (separados por comas):\")\n",
        "productos_ventas = input().split(\",\") #devuelve la lista con los elementos separados por las comas\n",
        "\n",
        "pInv = fun_productos(productos_inventario, productos_ventas)\n",
        "\n",
        "print(f\"Productos restantes en inventario: {pInv}\")"
      ],
      "metadata": {
        "colab": {
          "base_uri": "https://localhost:8080/"
        },
        "id": "dLpCp-iBAX68",
        "outputId": "59facd18-a7b6-461d-be56-2afb50093c3e"
      },
      "execution_count": null,
      "outputs": [
        {
          "output_type": "stream",
          "name": "stdout",
          "text": [
            "Ingrese los productos del inventario (separados por comas):\n",
            "arroz, agua, jugo, gaseosa, manzana\n",
            "Ingrese los productos vendidos (separados por comas):\n",
            "arroz, manzana\n",
            "Productos restantes en inventario: [' agua', ' jugo', ' gaseosa']\n"
          ]
        }
      ]
    },
    {
      "cell_type": "code",
      "source": [
        "\n",
        "#7. Registro de temperaturas: Escribe una función que reciba una lista de temperaturas\n",
        "#diarias (en grados Celsius) y devuelva cuántos días la temperatura estuvo por encima\n",
        "#de 30°C, cuántos entre 20°C y 30°C, y cuántos por debajo de 20°C.\n",
        "\n",
        "def temperaturas(temp_diarias):\n",
        "\n",
        "    diaT30=0\n",
        "    diaT20_30=0\n",
        "    diaT_20=0\n",
        "    for t in temp_diarias: #evalua cada temperatura de la lista temperaturas diarias y evalua las condiciones que nos piden\n",
        "        if t>30:\n",
        "            diaT30+=1\n",
        "\n",
        "        elif t>20 and t<=30:\n",
        "            diaT20_30+=1\n",
        "\n",
        "        else:\n",
        "            diaT_20+=1\n",
        "\n",
        "    print(f\"la temperatura estuvo por arriba de 30 grados {diaT30} dias\")\n",
        "    print(f\"la temperatura estuvo por entre 20 y 30 grados {diaT20_30} dias\")\n",
        "    print(f\"la temperatura estuvo por debajo de 20 grados {diaT_20} dias\")\n",
        "    return diaT30, diaT20_30, diaT_20\n",
        "print(\"Ingrese las temperaturas diarias (separadas por comas):\")\n",
        "t_diarias = [int(t) for t in input().split(\",\")]  # la cosa con el .split es que el resultado al meter los elementos a la lista\n",
        "                                                 # es que seran str entonces lo cambio a int cada t, es decir cada elemento t\n",
        "temperaturaS=temperaturas(t_diarias)             # de la lista que haga con elk split"
      ],
      "metadata": {
        "id": "HUWlM-7DGgcb"
      },
      "execution_count": null,
      "outputs": []
    },
    {
      "cell_type": "code",
      "source": [
        "#8. Cálculo de calorías consumidas: Crea una función que reciba una lista de alimentos\n",
        "#consumidos y una lista de calorías correspondientes a cada alimento. La función debe\n",
        "#calcular el total de calorías consumidas y devolver un mensaje si se superan las 2000\n",
        "#calorías diarias recomendadas.\n",
        "def calcularCalorias( calorias):\n",
        "    cantidadC=0  #incializo en 0\n",
        "\n",
        "    for c in calorias:  # recorre cada el mento de calorias y cantdidadc=cantidadc+c (cantidadc=0+ cada elemento lo va sumando) y luego evalua si cantidadC es mayor a 2k pa imprimir la alerta\n",
        "        cantidadC+=c\n",
        "    if cantidadC>2000:\n",
        "        print(\"cantidad de calorias recomendadas superadas!! \")\n",
        "    return cantidadC\n",
        "print(\"Ingrese los alimentos  (separadas por comas):\")\n",
        "Alimentos=input().split(\",\")                            # se piden y se agregan a una lista con el .split en modo string\n",
        "print(\"Ingrese las calorias respectivas a cada alimento (separadas por comas):\")\n",
        "Calorias = [int(c) for c in input().split(\",\")]           # por tanto en este se tiene que cambiar cada elemento de la lista ya que las calorias son enteros\n",
        "cl=calcularCalorias(Calorias)\n",
        "print(f\"cantidad de calorias consumidas {cl}\")"
      ],
      "metadata": {
        "colab": {
          "base_uri": "https://localhost:8080/"
        },
        "id": "PZQyoPNxLVe8",
        "outputId": "cef7ba27-3392-41ea-a33a-b689fddc0c71"
      },
      "execution_count": null,
      "outputs": [
        {
          "output_type": "stream",
          "name": "stdout",
          "text": [
            "Ingrese los alimentos  (separadas por comas):\n",
            "jugo, papa, arroz, ensalada\n",
            "Ingrese las calorias respectivas a cada alimento (separadas por comas):\n",
            "300, 400, 600, 100\n",
            "cantidad de calorias consumidas 1400\n"
          ]
        }
      ]
    },
    {
      "cell_type": "code",
      "source": [
        "#9. Promedio de ventas mensuales: Escribe una función que reciba una lista de ventas\n",
        "#mensuales (12 valores) y calcule el promedio de ventas. Además, debe indicar cuántos\n",
        "#meses estuvieron por encima del promedio.\n",
        "\n",
        "def promedioVentas(ventas_mes):\n",
        "    promedio=0       #inicializo los valores en 0, para luego usarlos\n",
        "    sumv=0\n",
        "    over_prom=0\n",
        "    for v in ventas_mes:     #recorre cada venta de la lista ventas mes, entonces cada venta se suma, para hallar el promedio mas que nada\n",
        "        sumv+=v              #entonces cada venta/ cantidad de ventas, la cual ya estaba definida que es 12 seria el promedio y pues se\n",
        "                             # evalua si cada venta de la lista es mayor a ese promedio se retorna y se imprime\n",
        "    promedio=sumv/12\n",
        "    for v in ventas_mes:\n",
        "      if v>promedio:\n",
        "        over_prom+=1\n",
        "    return sumv, promedio, over_prom\n",
        "print(\"Ingrese las ventas mensuales (12 valores) (separadas por comas):\")\n",
        "ventas_mensuales = [int(v) for v in input().split(\",\")]\n",
        "sumv, promedio, over_prom = promedioVentas(ventas_mensuales)\n",
        "print(f\"La suma total es {sumv}, el promedio es {promedio:.2f}, y hubo {over_prom} meses por encima del promedio.\")"
      ],
      "metadata": {
        "colab": {
          "base_uri": "https://localhost:8080/"
        },
        "id": "vKL6kji2PYL2",
        "outputId": "e39606cf-3990-4b9c-80f5-754c562204cf"
      },
      "execution_count": null,
      "outputs": [
        {
          "output_type": "stream",
          "name": "stdout",
          "text": [
            "Ingrese las ventas mensuales (12 valores) (separadas por comas):\n",
            "400,200,100,600,40,90,80,700,500,140,170,56\n",
            "La suma total es 3076, el promedio es 256.33, y hubo 4 meses por encima del promedio.\n"
          ]
        }
      ]
    },
    {
      "cell_type": "code",
      "source": [
        "#10. Sistema de descuentos en una tienda: Crea una función que reciba el total de una compra y aplique un descuento según el monto:\n",
        "                                                                                                        #5% si el total está entre 50 y 100.\n",
        "                                                                                                        #10% si el total es mayor a 100 y menor a 200.\n",
        "                                                                                                        #15% si el total es mayor o igual a $200.\n",
        "def aplicar_descuento(total):\n",
        "    if 50 <= total < 100:\n",
        "        descuento = 0.05\n",
        "    elif 100 <= total < 200:\n",
        "        descuento = 0.10\n",
        "    elif total >= 200:\n",
        "        descuento = 0.15\n",
        "    else:\n",
        "        descuento = 0  # Sin descuento\n",
        "\n",
        "    total_con_descuento = total - (total * descuento)\n",
        "    return total_con_descuento\n",
        "    print(f\"Total a pagar con descuento: ${total_con_descuento:.2f}\")\n",
        "\n",
        "total_compra = float(input(\"Ingrese el total de la compra: $\"))\n",
        "total_con_descuento = aplicar_descuento(total_compra)\n",
        "print(f\"Total a pagar con descuento: ${total_con_descuento:.2f}\")"
      ],
      "metadata": {
        "id": "QQRnFdeTSjWj",
        "colab": {
          "base_uri": "https://localhost:8080/"
        },
        "outputId": "327120c6-ad08-46d4-d752-3cd8e6f7f1a5"
      },
      "execution_count": null,
      "outputs": [
        {
          "output_type": "stream",
          "name": "stdout",
          "text": [
            "Ingrese el total de la compra: $0\n",
            "Total a pagar con descuento: $0.00\n"
          ]
        }
      ]
    },
    {
      "cell_type": "code",
      "source": [
        "#11. Registro de pacientes: Escribe una función que reciba una lista de nombres de pacientes y una lista de edades.\n",
        "     #La función debe devolver una lista de pacientes mayores de 60 años, indicando que requieren atención prioritaria.\n",
        "\n",
        "def pacientes_prioritarios(nombres, edades):\n",
        "    pacientes_prioritarios = []\n",
        "    for i in range(len(nombres)):\n",
        "        if edades[i] > 60:\n",
        "            pacientes_prioritarios.append(nombres[i])\n",
        "    print(f\"pacientes prioritarios: {pacientes_prioritarios}\")\n",
        "    return pacientes_prioritarios\n",
        "print(\"Ingrese los nombres de los pacientes (separados por comas):\")\n",
        "nombres_pacientes = input().split(\",\")\n",
        "\n",
        "print(\"Ingrese las edades de los pacientes (separados por comas):\")\n",
        "edades_pacientes = [int(edad) for edad in input().split(\",\")]\n",
        "\n",
        "list=pacientes_prioritarios(nombres_pacientes, edades_pacientes)\n",
        "print(f\"pacientes prioritarios. {list}\")"
      ],
      "metadata": {
        "id": "j1F1Ja73Wtdl",
        "colab": {
          "base_uri": "https://localhost:8080/"
        },
        "outputId": "01001f46-3961-40d3-c98f-fe6f0ee00a5d"
      },
      "execution_count": null,
      "outputs": [
        {
          "output_type": "stream",
          "name": "stdout",
          "text": [
            "Ingrese los nombres de los pacientes (separados por comas):\n",
            "juan, mariana, david\n",
            "Ingrese las edades de los pacientes (separados por comas):\n",
            "60,30,78\n",
            "pacientes prioritarios: [' david']\n",
            "pacientes prioritarios. [' david']\n"
          ]
        }
      ]
    },
    {
      "cell_type": "code",
      "source": [
        "#12. Cálculo de gastos mensuales: Crea una función que reciba una lista de gastos mensuales (alquiler, comida, transporte, etc.)\n",
        "#y calcule el total de gastos. Además, debe indicar cuál fue el gasto más alto y en qué categoría se realizó.\n",
        "\n",
        "def calcular_gastos(gastos):\n",
        "    # Calcular el total de los gastos\n",
        "    total_gastos = sum(gastos.values())\n",
        "\n",
        "    # Encontrar el gasto más alto y la categoría correspondiente\n",
        "    gasto_mas_alto_categoria = max(gastos, key=gastos.get)\n",
        "    gasto_mas_alto = gastos[gasto_mas_alto_categoria]\n",
        "\n",
        "    # Mostrar el resultado\n",
        "    print(f\"Total de gastos mensuales: {total_gastos} unidades monetarias\")\n",
        "    print(f\"El gasto más alto fue en {gasto_mas_alto_categoria}: {gasto_mas_alto} unidades monetarias\")\n",
        "\n",
        "# Ejemplo de uso:\n",
        "gastos_mensuales = {\n",
        "    \"alquiler\": 800,\n",
        "    \"comida\": 200,\n",
        "    \"transporte\": 50,\n",
        "    \"entretenimiento\": 100\n",
        "}\n",
        "\n",
        "calcular_gastos(gastos_mensuales)\n"
      ],
      "metadata": {
        "colab": {
          "base_uri": "https://localhost:8080/"
        },
        "id": "0Yyf7dAZdjuY",
        "outputId": "ac951bb6-fd3f-404a-faa7-908a68aff753"
      },
      "execution_count": null,
      "outputs": [
        {
          "output_type": "stream",
          "name": "stdout",
          "text": [
            "Total de gastos mensuales: 1150 unidades monetarias\n",
            "El gasto más alto fue en alquiler: 800 unidades monetarias\n"
          ]
        }
      ]
    },
    {
      "cell_type": "code",
      "source": [
        "#13. Control de asistencia a eventos: Escribe una función que reciba una lista de nombres de personas registradas para un evento y\n",
        "#una lista de nombres de personas que asistieron. La función debe devolver una lista de personas que no asistieron.\n",
        "\n",
        "\n",
        "def control_asistencia(registrados, asistentes):\n",
        "    # Filtrar las personas registradas que no asistieron\n",
        "    no_asistieron = [persona for persona in registrados if persona not in asistentes]\n",
        "\n",
        "    return no_asistieron\n",
        "\n",
        "# Ejemplo de uso:\n",
        "registrados = [\"Ana\", \"Luis\", \"Carlos\", \"Maria\", \"Elena\"]\n",
        "asistentes = [\"Luis\", \"Carlos\", \"Elena\"]\n",
        "\n",
        "no_asistieron = control_asistencia(registrados, asistentes)\n",
        "\n",
        "print(\"Personas que no asistieron:\", no_asistieron)"
      ],
      "metadata": {
        "colab": {
          "base_uri": "https://localhost:8080/"
        },
        "id": "Bhqf7t44eGRO",
        "outputId": "25bbb8ea-830e-42db-dff8-25e625cb32f7"
      },
      "execution_count": null,
      "outputs": [
        {
          "output_type": "stream",
          "name": "stdout",
          "text": [
            "Personas que no asistieron: ['Ana', 'Maria']\n"
          ]
        }
      ]
    },
    {
      "cell_type": "code",
      "source": [
        "#14. Recomendación de ejercicio diario:Crea una función que reciba la cantidad de minutos de ejercicio realizados\n",
        "#en una semana (7 días) y devuelva un mensaje personalizado:\n",
        "                                                #\"Excelente, estás en forma\" si el promedio diario es mayor a 60 minutos.\n",
        "                                                #\"Buen trabajo, pero puedes mejorar\" si el promedio está entre 30 y 60 minutos.\n",
        "                                                #\"Debes hacer más ejercicio\" si el promedio es menor a 30 minutos.\n",
        "def recomendacion_ejercicio(minutos_semanales):\n",
        "    # Calcular el promedio diario de ejercicio\n",
        "    promedio_diario = sum(minutos_semanales) / len(minutos_semanales)\n",
        "\n",
        "    # Determinar el mensaje según el promedio\n",
        "    if promedio_diario > 60:\n",
        "        return \"Excelente, estás en forma\"\n",
        "    elif promedio_diario >= 30:\n",
        "        return \"Buen trabajo, pero puedes mejorar\"\n",
        "    else:\n",
        "        return \"Debes hacer más ejercicio\"\n",
        "\n",
        "# Ejemplo de uso:\n",
        "minutos_semanales = [45, 60, 70, 80, 40, 50, 30]  # Minutos de ejercicio por cada día de la semana\n",
        "\n",
        "mensaje = recomendacion_ejercicio(minutos_semanales)\n",
        "print(mensaje)"
      ],
      "metadata": {
        "colab": {
          "base_uri": "https://localhost:8080/"
        },
        "id": "pa-jan3eenZI",
        "outputId": "62238411-1662-4d1e-8a70-65a235ff3e46"
      },
      "execution_count": null,
      "outputs": [
        {
          "output_type": "stream",
          "name": "stdout",
          "text": [
            "Buen trabajo, pero puedes mejorar\n"
          ]
        }
      ]
    }
  ]
}